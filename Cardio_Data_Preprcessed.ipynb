{
 "cells": [
  {
   "cell_type": "code",
   "execution_count": 255,
   "id": "a553ad85-9eee-4662-82e2-65e33852efae",
   "metadata": {},
   "outputs": [],
   "source": [
    "import pandas as pd"
   ]
  },
  {
   "cell_type": "code",
   "execution_count": 256,
   "id": "8ef99b17-042d-4171-a532-9143b3b6c234",
   "metadata": {},
   "outputs": [],
   "source": [
    "data=pd.read_csv(\"CVD.csv\")"
   ]
  },
  {
   "cell_type": "code",
   "execution_count": 257,
   "id": "13c7a357-12b9-418f-9890-76bc58f75790",
   "metadata": {},
   "outputs": [
    {
     "data": {
      "text/html": [
       "<div>\n",
       "<style scoped>\n",
       "    .dataframe tbody tr th:only-of-type {\n",
       "        vertical-align: middle;\n",
       "    }\n",
       "\n",
       "    .dataframe tbody tr th {\n",
       "        vertical-align: top;\n",
       "    }\n",
       "\n",
       "    .dataframe thead th {\n",
       "        text-align: right;\n",
       "    }\n",
       "</style>\n",
       "<table border=\"1\" class=\"dataframe\">\n",
       "  <thead>\n",
       "    <tr style=\"text-align: right;\">\n",
       "      <th></th>\n",
       "      <th>General_Health</th>\n",
       "      <th>Checkup</th>\n",
       "      <th>Exercise</th>\n",
       "      <th>Heart_Disease</th>\n",
       "      <th>Skin_Cancer</th>\n",
       "      <th>Other_Cancer</th>\n",
       "      <th>Depression</th>\n",
       "      <th>Diabetes</th>\n",
       "      <th>Arthritis</th>\n",
       "      <th>Sex</th>\n",
       "      <th>Age_Category</th>\n",
       "      <th>Height_(cm)</th>\n",
       "      <th>Weight_(kg)</th>\n",
       "      <th>BMI</th>\n",
       "      <th>Smoking_History</th>\n",
       "      <th>Alcohol_Consumption</th>\n",
       "      <th>Fruit_Consumption</th>\n",
       "      <th>Green_Vegetables_Consumption</th>\n",
       "      <th>FriedPotato_Consumption</th>\n",
       "    </tr>\n",
       "  </thead>\n",
       "  <tbody>\n",
       "    <tr>\n",
       "      <th>0</th>\n",
       "      <td>Poor</td>\n",
       "      <td>Within the past 2 years</td>\n",
       "      <td>No</td>\n",
       "      <td>No</td>\n",
       "      <td>No</td>\n",
       "      <td>No</td>\n",
       "      <td>No</td>\n",
       "      <td>No</td>\n",
       "      <td>Yes</td>\n",
       "      <td>Female</td>\n",
       "      <td>70-74</td>\n",
       "      <td>150</td>\n",
       "      <td>32.66</td>\n",
       "      <td>14.54</td>\n",
       "      <td>Yes</td>\n",
       "      <td>0</td>\n",
       "      <td>30</td>\n",
       "      <td>16</td>\n",
       "      <td>12</td>\n",
       "    </tr>\n",
       "    <tr>\n",
       "      <th>1</th>\n",
       "      <td>Very Good</td>\n",
       "      <td>Within the past year</td>\n",
       "      <td>No</td>\n",
       "      <td>Yes</td>\n",
       "      <td>No</td>\n",
       "      <td>No</td>\n",
       "      <td>No</td>\n",
       "      <td>Yes</td>\n",
       "      <td>No</td>\n",
       "      <td>Female</td>\n",
       "      <td>70-74</td>\n",
       "      <td>165</td>\n",
       "      <td>77.11</td>\n",
       "      <td>28.29</td>\n",
       "      <td>No</td>\n",
       "      <td>0</td>\n",
       "      <td>30</td>\n",
       "      <td>0</td>\n",
       "      <td>4</td>\n",
       "    </tr>\n",
       "    <tr>\n",
       "      <th>2</th>\n",
       "      <td>Very Good</td>\n",
       "      <td>Within the past year</td>\n",
       "      <td>Yes</td>\n",
       "      <td>No</td>\n",
       "      <td>No</td>\n",
       "      <td>No</td>\n",
       "      <td>No</td>\n",
       "      <td>Yes</td>\n",
       "      <td>No</td>\n",
       "      <td>Female</td>\n",
       "      <td>60-64</td>\n",
       "      <td>163</td>\n",
       "      <td>88.45</td>\n",
       "      <td>33.47</td>\n",
       "      <td>No</td>\n",
       "      <td>4</td>\n",
       "      <td>12</td>\n",
       "      <td>3</td>\n",
       "      <td>16</td>\n",
       "    </tr>\n",
       "    <tr>\n",
       "      <th>3</th>\n",
       "      <td>Poor</td>\n",
       "      <td>Within the past year</td>\n",
       "      <td>Yes</td>\n",
       "      <td>Yes</td>\n",
       "      <td>No</td>\n",
       "      <td>No</td>\n",
       "      <td>No</td>\n",
       "      <td>Yes</td>\n",
       "      <td>No</td>\n",
       "      <td>Male</td>\n",
       "      <td>75-79</td>\n",
       "      <td>180</td>\n",
       "      <td>93.44</td>\n",
       "      <td>28.73</td>\n",
       "      <td>No</td>\n",
       "      <td>0</td>\n",
       "      <td>30</td>\n",
       "      <td>30</td>\n",
       "      <td>8</td>\n",
       "    </tr>\n",
       "    <tr>\n",
       "      <th>4</th>\n",
       "      <td>Good</td>\n",
       "      <td>Within the past year</td>\n",
       "      <td>No</td>\n",
       "      <td>No</td>\n",
       "      <td>No</td>\n",
       "      <td>No</td>\n",
       "      <td>No</td>\n",
       "      <td>No</td>\n",
       "      <td>No</td>\n",
       "      <td>Male</td>\n",
       "      <td>80+</td>\n",
       "      <td>191</td>\n",
       "      <td>88.45</td>\n",
       "      <td>24.37</td>\n",
       "      <td>Yes</td>\n",
       "      <td>0</td>\n",
       "      <td>8</td>\n",
       "      <td>4</td>\n",
       "      <td>0</td>\n",
       "    </tr>\n",
       "    <tr>\n",
       "      <th>...</th>\n",
       "      <td>...</td>\n",
       "      <td>...</td>\n",
       "      <td>...</td>\n",
       "      <td>...</td>\n",
       "      <td>...</td>\n",
       "      <td>...</td>\n",
       "      <td>...</td>\n",
       "      <td>...</td>\n",
       "      <td>...</td>\n",
       "      <td>...</td>\n",
       "      <td>...</td>\n",
       "      <td>...</td>\n",
       "      <td>...</td>\n",
       "      <td>...</td>\n",
       "      <td>...</td>\n",
       "      <td>...</td>\n",
       "      <td>...</td>\n",
       "      <td>...</td>\n",
       "      <td>...</td>\n",
       "    </tr>\n",
       "    <tr>\n",
       "      <th>308849</th>\n",
       "      <td>Very Good</td>\n",
       "      <td>Within the past year</td>\n",
       "      <td>Yes</td>\n",
       "      <td>No</td>\n",
       "      <td>No</td>\n",
       "      <td>No</td>\n",
       "      <td>No</td>\n",
       "      <td>No</td>\n",
       "      <td>No</td>\n",
       "      <td>Male</td>\n",
       "      <td>25-29</td>\n",
       "      <td>168</td>\n",
       "      <td>81.65</td>\n",
       "      <td>29.05</td>\n",
       "      <td>No</td>\n",
       "      <td>4</td>\n",
       "      <td>30</td>\n",
       "      <td>8</td>\n",
       "      <td>0</td>\n",
       "    </tr>\n",
       "    <tr>\n",
       "      <th>308850</th>\n",
       "      <td>Fair</td>\n",
       "      <td>Within the past 5 years</td>\n",
       "      <td>Yes</td>\n",
       "      <td>No</td>\n",
       "      <td>No</td>\n",
       "      <td>No</td>\n",
       "      <td>No</td>\n",
       "      <td>Yes</td>\n",
       "      <td>No</td>\n",
       "      <td>Male</td>\n",
       "      <td>65-69</td>\n",
       "      <td>180</td>\n",
       "      <td>69.85</td>\n",
       "      <td>21.48</td>\n",
       "      <td>No</td>\n",
       "      <td>8</td>\n",
       "      <td>15</td>\n",
       "      <td>60</td>\n",
       "      <td>4</td>\n",
       "    </tr>\n",
       "    <tr>\n",
       "      <th>308851</th>\n",
       "      <td>Very Good</td>\n",
       "      <td>5 or more years ago</td>\n",
       "      <td>Yes</td>\n",
       "      <td>No</td>\n",
       "      <td>No</td>\n",
       "      <td>No</td>\n",
       "      <td>Yes</td>\n",
       "      <td>Yes, but female told only during pregnancy</td>\n",
       "      <td>No</td>\n",
       "      <td>Female</td>\n",
       "      <td>30-34</td>\n",
       "      <td>157</td>\n",
       "      <td>61.23</td>\n",
       "      <td>24.69</td>\n",
       "      <td>Yes</td>\n",
       "      <td>4</td>\n",
       "      <td>40</td>\n",
       "      <td>8</td>\n",
       "      <td>4</td>\n",
       "    </tr>\n",
       "    <tr>\n",
       "      <th>308852</th>\n",
       "      <td>Very Good</td>\n",
       "      <td>Within the past year</td>\n",
       "      <td>Yes</td>\n",
       "      <td>No</td>\n",
       "      <td>No</td>\n",
       "      <td>No</td>\n",
       "      <td>No</td>\n",
       "      <td>No</td>\n",
       "      <td>No</td>\n",
       "      <td>Male</td>\n",
       "      <td>65-69</td>\n",
       "      <td>183</td>\n",
       "      <td>79.38</td>\n",
       "      <td>23.73</td>\n",
       "      <td>No</td>\n",
       "      <td>3</td>\n",
       "      <td>30</td>\n",
       "      <td>12</td>\n",
       "      <td>0</td>\n",
       "    </tr>\n",
       "    <tr>\n",
       "      <th>308853</th>\n",
       "      <td>Excellent</td>\n",
       "      <td>Within the past year</td>\n",
       "      <td>Yes</td>\n",
       "      <td>No</td>\n",
       "      <td>No</td>\n",
       "      <td>No</td>\n",
       "      <td>No</td>\n",
       "      <td>No</td>\n",
       "      <td>No</td>\n",
       "      <td>Female</td>\n",
       "      <td>45-49</td>\n",
       "      <td>160</td>\n",
       "      <td>81.19</td>\n",
       "      <td>31.71</td>\n",
       "      <td>No</td>\n",
       "      <td>1</td>\n",
       "      <td>5</td>\n",
       "      <td>12</td>\n",
       "      <td>1</td>\n",
       "    </tr>\n",
       "  </tbody>\n",
       "</table>\n",
       "<p>308854 rows × 19 columns</p>\n",
       "</div>"
      ],
      "text/plain": [
       "       General_Health                  Checkup Exercise Heart_Disease  \\\n",
       "0                Poor  Within the past 2 years       No            No   \n",
       "1           Very Good     Within the past year       No           Yes   \n",
       "2           Very Good     Within the past year      Yes            No   \n",
       "3                Poor     Within the past year      Yes           Yes   \n",
       "4                Good     Within the past year       No            No   \n",
       "...               ...                      ...      ...           ...   \n",
       "308849      Very Good     Within the past year      Yes            No   \n",
       "308850           Fair  Within the past 5 years      Yes            No   \n",
       "308851      Very Good      5 or more years ago      Yes            No   \n",
       "308852      Very Good     Within the past year      Yes            No   \n",
       "308853      Excellent     Within the past year      Yes            No   \n",
       "\n",
       "       Skin_Cancer Other_Cancer Depression  \\\n",
       "0               No           No         No   \n",
       "1               No           No         No   \n",
       "2               No           No         No   \n",
       "3               No           No         No   \n",
       "4               No           No         No   \n",
       "...            ...          ...        ...   \n",
       "308849          No           No         No   \n",
       "308850          No           No         No   \n",
       "308851          No           No        Yes   \n",
       "308852          No           No         No   \n",
       "308853          No           No         No   \n",
       "\n",
       "                                          Diabetes Arthritis     Sex  \\\n",
       "0                                               No       Yes  Female   \n",
       "1                                              Yes        No  Female   \n",
       "2                                              Yes        No  Female   \n",
       "3                                              Yes        No    Male   \n",
       "4                                               No        No    Male   \n",
       "...                                            ...       ...     ...   \n",
       "308849                                          No        No    Male   \n",
       "308850                                         Yes        No    Male   \n",
       "308851  Yes, but female told only during pregnancy        No  Female   \n",
       "308852                                          No        No    Male   \n",
       "308853                                          No        No  Female   \n",
       "\n",
       "       Age_Category  Height_(cm)  Weight_(kg)    BMI Smoking_History  \\\n",
       "0             70-74          150        32.66  14.54             Yes   \n",
       "1             70-74          165        77.11  28.29              No   \n",
       "2             60-64          163        88.45  33.47              No   \n",
       "3             75-79          180        93.44  28.73              No   \n",
       "4               80+          191        88.45  24.37             Yes   \n",
       "...             ...          ...          ...    ...             ...   \n",
       "308849        25-29          168        81.65  29.05              No   \n",
       "308850        65-69          180        69.85  21.48              No   \n",
       "308851        30-34          157        61.23  24.69             Yes   \n",
       "308852        65-69          183        79.38  23.73              No   \n",
       "308853        45-49          160        81.19  31.71              No   \n",
       "\n",
       "        Alcohol_Consumption  Fruit_Consumption  Green_Vegetables_Consumption  \\\n",
       "0                         0                 30                            16   \n",
       "1                         0                 30                             0   \n",
       "2                         4                 12                             3   \n",
       "3                         0                 30                            30   \n",
       "4                         0                  8                             4   \n",
       "...                     ...                ...                           ...   \n",
       "308849                    4                 30                             8   \n",
       "308850                    8                 15                            60   \n",
       "308851                    4                 40                             8   \n",
       "308852                    3                 30                            12   \n",
       "308853                    1                  5                            12   \n",
       "\n",
       "        FriedPotato_Consumption  \n",
       "0                            12  \n",
       "1                             4  \n",
       "2                            16  \n",
       "3                             8  \n",
       "4                             0  \n",
       "...                         ...  \n",
       "308849                        0  \n",
       "308850                        4  \n",
       "308851                        4  \n",
       "308852                        0  \n",
       "308853                        1  \n",
       "\n",
       "[308854 rows x 19 columns]"
      ]
     },
     "execution_count": 257,
     "metadata": {},
     "output_type": "execute_result"
    }
   ],
   "source": [
    "data\n"
   ]
  },
  {
   "cell_type": "code",
   "execution_count": 258,
   "id": "7044d3ab-3ceb-4ce3-864b-f5b16129e02c",
   "metadata": {},
   "outputs": [
    {
     "name": "stdout",
     "output_type": "stream",
     "text": [
      "<class 'pandas.core.frame.DataFrame'>\n",
      "RangeIndex: 308854 entries, 0 to 308853\n",
      "Data columns (total 19 columns):\n",
      " #   Column                        Non-Null Count   Dtype  \n",
      "---  ------                        --------------   -----  \n",
      " 0   General_Health                308854 non-null  object \n",
      " 1   Checkup                       308854 non-null  object \n",
      " 2   Exercise                      308854 non-null  object \n",
      " 3   Heart_Disease                 308854 non-null  object \n",
      " 4   Skin_Cancer                   308854 non-null  object \n",
      " 5   Other_Cancer                  308854 non-null  object \n",
      " 6   Depression                    308854 non-null  object \n",
      " 7   Diabetes                      308854 non-null  object \n",
      " 8   Arthritis                     308854 non-null  object \n",
      " 9   Sex                           308854 non-null  object \n",
      " 10  Age_Category                  308854 non-null  object \n",
      " 11  Height_(cm)                   308854 non-null  int64  \n",
      " 12  Weight_(kg)                   308854 non-null  float64\n",
      " 13  BMI                           308854 non-null  float64\n",
      " 14  Smoking_History               308854 non-null  object \n",
      " 15  Alcohol_Consumption           308854 non-null  int64  \n",
      " 16  Fruit_Consumption             308854 non-null  int64  \n",
      " 17  Green_Vegetables_Consumption  308854 non-null  int64  \n",
      " 18  FriedPotato_Consumption       308854 non-null  int64  \n",
      "dtypes: float64(2), int64(5), object(12)\n",
      "memory usage: 44.8+ MB\n",
      "None\n"
     ]
    }
   ],
   "source": [
    "print(data.info())"
   ]
  },
  {
   "cell_type": "raw",
   "id": "dd19abee-4ab4-4de9-85f8-4c5dae90eeef",
   "metadata": {},
   "source": []
  },
  {
   "cell_type": "code",
   "execution_count": 259,
   "id": "5e56e249-c8a3-466a-925a-356581b370c1",
   "metadata": {},
   "outputs": [
    {
     "name": "stdout",
     "output_type": "stream",
     "text": [
      "  General_Health                  Checkup Exercise Heart_Disease Skin_Cancer  \\\n",
      "0           Poor  Within the past 2 years       No            No          No   \n",
      "1      Very Good     Within the past year       No           Yes          No   \n",
      "2      Very Good     Within the past year      Yes            No          No   \n",
      "3           Poor     Within the past year      Yes           Yes          No   \n",
      "4           Good     Within the past year       No            No          No   \n",
      "\n",
      "  Other_Cancer Depression Diabetes Arthritis     Sex Age_Category  \\\n",
      "0           No         No       No       Yes  Female        70-74   \n",
      "1           No         No      Yes        No  Female        70-74   \n",
      "2           No         No      Yes        No  Female        60-64   \n",
      "3           No         No      Yes        No    Male        75-79   \n",
      "4           No         No       No        No    Male          80+   \n",
      "\n",
      "   Height_(cm)  Weight_(kg)    BMI Smoking_History  Alcohol_Consumption  \\\n",
      "0          150        32.66  14.54             Yes                    0   \n",
      "1          165        77.11  28.29              No                    0   \n",
      "2          163        88.45  33.47              No                    4   \n",
      "3          180        93.44  28.73              No                    0   \n",
      "4          191        88.45  24.37             Yes                    0   \n",
      "\n",
      "   Fruit_Consumption  Green_Vegetables_Consumption  FriedPotato_Consumption  \n",
      "0                 30                            16                       12  \n",
      "1                 30                             0                        4  \n",
      "2                 12                             3                       16  \n",
      "3                 30                            30                        8  \n",
      "4                  8                             4                        0  \n"
     ]
    }
   ],
   "source": [
    "print(data.head())"
   ]
  },
  {
   "cell_type": "code",
   "execution_count": 260,
   "id": "c85366ee-cad0-4de4-bc28-cc11d04fe76b",
   "metadata": {},
   "outputs": [
    {
     "name": "stdout",
     "output_type": "stream",
     "text": [
      "General_Health                  0\n",
      "Checkup                         0\n",
      "Exercise                        0\n",
      "Heart_Disease                   0\n",
      "Skin_Cancer                     0\n",
      "Other_Cancer                    0\n",
      "Depression                      0\n",
      "Diabetes                        0\n",
      "Arthritis                       0\n",
      "Sex                             0\n",
      "Age_Category                    0\n",
      "Height_(cm)                     0\n",
      "Weight_(kg)                     0\n",
      "BMI                             0\n",
      "Smoking_History                 0\n",
      "Alcohol_Consumption             0\n",
      "Fruit_Consumption               0\n",
      "Green_Vegetables_Consumption    0\n",
      "FriedPotato_Consumption         0\n",
      "dtype: int64\n"
     ]
    }
   ],
   "source": [
    "print(data.isnull().sum())\n",
    "       "
   ]
  },
  {
   "cell_type": "code",
   "execution_count": 261,
   "id": "e4318e72-ad78-46a2-85b2-85ea79b65ad3",
   "metadata": {},
   "outputs": [
    {
     "name": "stdout",
     "output_type": "stream",
     "text": [
      "General_Health                   object\n",
      "Checkup                          object\n",
      "Exercise                         object\n",
      "Heart_Disease                    object\n",
      "Skin_Cancer                      object\n",
      "Other_Cancer                     object\n",
      "Depression                       object\n",
      "Diabetes                         object\n",
      "Arthritis                        object\n",
      "Sex                              object\n",
      "Age_Category                     object\n",
      "Height_(cm)                       int64\n",
      "Weight_(kg)                     float64\n",
      "BMI                             float64\n",
      "Smoking_History                  object\n",
      "Alcohol_Consumption               int64\n",
      "Fruit_Consumption                 int64\n",
      "Green_Vegetables_Consumption      int64\n",
      "FriedPotato_Consumption           int64\n",
      "dtype: object\n"
     ]
    }
   ],
   "source": [
    "print(data.dtypes)"
   ]
  },
  {
   "cell_type": "code",
   "execution_count": 262,
   "id": "251ad31c-f645-4af2-9fb3-0771c391349c",
   "metadata": {},
   "outputs": [],
   "source": [
    "duplicate_count=data.duplicated().sum()"
   ]
  },
  {
   "cell_type": "code",
   "execution_count": 263,
   "id": "73ff4bd6-3a67-4120-931c-5cf4d11350dd",
   "metadata": {},
   "outputs": [
    {
     "name": "stdout",
     "output_type": "stream",
     "text": [
      "80\n"
     ]
    }
   ],
   "source": [
    "print(duplicate_count)"
   ]
  },
  {
   "cell_type": "code",
   "execution_count": 264,
   "id": "92552ee1-c88b-472c-a78d-1c3f6c659151",
   "metadata": {},
   "outputs": [],
   "source": [
    "data_cleaned=data.drop_duplicates()"
   ]
  },
  {
   "cell_type": "code",
   "execution_count": 265,
   "id": "7e6ba2fd-e85e-49bf-a5ea-b63fb6897ce9",
   "metadata": {},
   "outputs": [],
   "source": [
    "rows_before=len(data)\n",
    "rows_after=len(data_cleaned)"
   ]
  },
  {
   "cell_type": "code",
   "execution_count": 266,
   "id": "e05a8305-c53b-4ca9-ab69-38b032579202",
   "metadata": {},
   "outputs": [
    {
     "name": "stdout",
     "output_type": "stream",
     "text": [
      "308854 308774\n"
     ]
    }
   ],
   "source": [
    "print(rows_before,rows_after)"
   ]
  },
  {
   "cell_type": "code",
   "execution_count": 267,
   "id": "5aea4ab8-651f-48af-957e-15be88ae584b",
   "metadata": {},
   "outputs": [],
   "source": [
    "categorical_columns=[ \"General_Health\", \"Checkup\", \"Exercise\", \"Heart_Disease\", \"Skin_Cancer\",\n",
    "    \"Other_Cancer\", \"Depression\", \"Diabetes\", \"Arthritis\", \"Sex\",\n",
    "    \"Age_Category\", \"Smoking_History\"\n",
    "]\n"
   ]
  },
  {
   "cell_type": "code",
   "execution_count": 268,
   "id": "bf726c2b-ccf1-4b1d-bd18-5610be117f8e",
   "metadata": {},
   "outputs": [
    {
     "name": "stdout",
     "output_type": "stream",
     "text": [
      " General_Health  :  ['Poor' 'Very Good' 'Good' 'Fair' 'Excellent']\n",
      " Checkup  :  ['Within the past 2 years' 'Within the past year' '5 or more years ago'\n",
      " 'Within the past 5 years' 'Never']\n",
      " Exercise  :  ['No' 'Yes']\n",
      " Heart_Disease  :  ['No' 'Yes']\n",
      " Skin_Cancer  :  ['No' 'Yes']\n",
      " Other_Cancer  :  ['No' 'Yes']\n",
      " Depression  :  ['No' 'Yes']\n",
      " Diabetes  :  ['No' 'Yes' 'No, pre-diabetes or borderline diabetes'\n",
      " 'Yes, but female told only during pregnancy']\n",
      " Arthritis  :  ['Yes' 'No']\n",
      " Sex  :  ['Female' 'Male']\n",
      " Age_Category  :  ['70-74' '60-64' '75-79' '80+' '65-69' '50-54' '45-49' '18-24' '30-34'\n",
      " '55-59' '35-39' '40-44' '25-29']\n",
      " Smoking_History  :  ['Yes' 'No']\n"
     ]
    }
   ],
   "source": [
    "for col in categorical_columns:\n",
    "    print(f\" {col}  :  {data_cleaned[col].unique()}\")\n",
    "    "
   ]
  },
  {
   "cell_type": "code",
   "execution_count": 269,
   "id": "ce113c04-1264-4f8d-93aa-09a1ea8bf22c",
   "metadata": {},
   "outputs": [
    {
     "name": "stdout",
     "output_type": "stream",
     "text": [
      "  General_Health                  Checkup Exercise Heart_Disease Skin_Cancer  \\\n",
      "0           Poor  Within the past 2 years       No            No          No   \n",
      "1      Very Good     Within the past year       No           Yes          No   \n",
      "2      Very Good     Within the past year      Yes            No          No   \n",
      "3           Poor     Within the past year      Yes           Yes          No   \n",
      "4           Good     Within the past year       No            No          No   \n",
      "\n",
      "  Other_Cancer Depression Diabetes Arthritis     Sex Age_Category  \\\n",
      "0           No         No       No       Yes  Female        70-74   \n",
      "1           No         No      Yes        No  Female        70-74   \n",
      "2           No         No      Yes        No  Female        60-64   \n",
      "3           No         No      Yes        No    Male        75-79   \n",
      "4           No         No       No        No    Male          80+   \n",
      "\n",
      "   Height_(cm)  Weight_(kg)    BMI Smoking_History  Alcohol_Consumption  \\\n",
      "0          150        32.66  14.54             Yes                    0   \n",
      "1          165        77.11  28.29              No                    0   \n",
      "2          163        88.45  33.47              No                    4   \n",
      "3          180        93.44  28.73              No                    0   \n",
      "4          191        88.45  24.37             Yes                    0   \n",
      "\n",
      "   Fruit_Consumption  Green_Vegetables_Consumption  FriedPotato_Consumption  \n",
      "0                 30                            16                       12  \n",
      "1                 30                             0                        4  \n",
      "2                 12                             3                       16  \n",
      "3                 30                            30                        8  \n",
      "4                  8                             4                        0  \n"
     ]
    }
   ],
   "source": [
    "print(data_cleaned.head())"
   ]
  },
  {
   "cell_type": "code",
   "execution_count": 270,
   "id": "2ca2b12d-49c9-42a5-bf8a-987de58e920d",
   "metadata": {},
   "outputs": [],
   "source": [
    "data_cleaned = data_cleaned.copy()\n",
    "data_cleaned['Sex'] = data_cleaned['Sex'].str.strip().str.lower()\n"
   ]
  },
  {
   "cell_type": "code",
   "execution_count": 271,
   "id": "8c1ba358-43c7-44b9-a2a7-03c42b40947a",
   "metadata": {},
   "outputs": [],
   "source": [
    "data_cleaned['General_Health']=data_cleaned['General_Health'].str.strip().str.lower()"
   ]
  },
  {
   "cell_type": "code",
   "execution_count": 272,
   "id": "5fab04db-ec3c-416d-86f6-8e1019fb1a41",
   "metadata": {},
   "outputs": [
    {
     "name": "stdout",
     "output_type": "stream",
     "text": [
      "  General_Health                  Checkup Exercise Heart_Disease Skin_Cancer  \\\n",
      "0           poor  Within the past 2 years       No            No          No   \n",
      "1      very good     Within the past year       No           Yes          No   \n",
      "2      very good     Within the past year      Yes            No          No   \n",
      "3           poor     Within the past year      Yes           Yes          No   \n",
      "4           good     Within the past year       No            No          No   \n",
      "\n",
      "  Other_Cancer Depression Diabetes Arthritis     Sex Age_Category  \\\n",
      "0           No         No       No       Yes  female        70-74   \n",
      "1           No         No      Yes        No  female        70-74   \n",
      "2           No         No      Yes        No  female        60-64   \n",
      "3           No         No      Yes        No    male        75-79   \n",
      "4           No         No       No        No    male          80+   \n",
      "\n",
      "   Height_(cm)  Weight_(kg)    BMI Smoking_History  Alcohol_Consumption  \\\n",
      "0          150        32.66  14.54             Yes                    0   \n",
      "1          165        77.11  28.29              No                    0   \n",
      "2          163        88.45  33.47              No                    4   \n",
      "3          180        93.44  28.73              No                    0   \n",
      "4          191        88.45  24.37             Yes                    0   \n",
      "\n",
      "   Fruit_Consumption  Green_Vegetables_Consumption  FriedPotato_Consumption  \n",
      "0                 30                            16                       12  \n",
      "1                 30                             0                        4  \n",
      "2                 12                             3                       16  \n",
      "3                 30                            30                        8  \n",
      "4                  8                             4                        0  \n"
     ]
    }
   ],
   "source": [
    "print(data_cleaned.head())"
   ]
  },
  {
   "cell_type": "code",
   "execution_count": 273,
   "id": "bce4bb76-3787-4dd0-9c41-712562e6e243",
   "metadata": {},
   "outputs": [],
   "source": [
    "data_cleaned['Checkup']=data_cleaned['Checkup'].str.strip().str.lower()"
   ]
  },
  {
   "cell_type": "code",
   "execution_count": 274,
   "id": "c7d3dbe8-0900-4064-a504-4fbbd1d83aeb",
   "metadata": {},
   "outputs": [],
   "source": [
    "data_cleaned['Exercise']=data_cleaned['Exercise'].str.strip().str.lower()"
   ]
  },
  {
   "cell_type": "code",
   "execution_count": 275,
   "id": "c40325cc-37d2-45c8-951e-d74d308cb7eb",
   "metadata": {},
   "outputs": [],
   "source": [
    "data_cleaned['Heart_Disease']=data_cleaned['Heart_Disease'].str.strip().str.lower()"
   ]
  },
  {
   "cell_type": "code",
   "execution_count": 276,
   "id": "d0eabd02-30ac-46a3-985e-06a61f9419b7",
   "metadata": {},
   "outputs": [],
   "source": [
    "data_cleaned['Skin_Cancer']=data_cleaned['Skin_Cancer'].str.strip().str.lower()"
   ]
  },
  {
   "cell_type": "code",
   "execution_count": 277,
   "id": "38c64edb-7e5d-405f-b1f1-74befbd30eb2",
   "metadata": {},
   "outputs": [],
   "source": [
    "data_cleaned['Other_Cancer']=data_cleaned['Other_Cancer'].str.strip().str.lower()"
   ]
  },
  {
   "cell_type": "code",
   "execution_count": 278,
   "id": "ff432f66-cb9a-45e9-a850-262febbbda69",
   "metadata": {},
   "outputs": [],
   "source": [
    "data_cleaned['Depression']=data_cleaned['Depression'].str.strip().str.lower()"
   ]
  },
  {
   "cell_type": "code",
   "execution_count": 279,
   "id": "21b1522a-22ef-41ea-8904-57beecf288f7",
   "metadata": {},
   "outputs": [],
   "source": [
    "data_cleaned['Diabetes']=data_cleaned['Diabetes'].str.strip().str.lower()"
   ]
  },
  {
   "cell_type": "code",
   "execution_count": 280,
   "id": "e3401388-01f1-4be0-be3a-322965133a2c",
   "metadata": {},
   "outputs": [],
   "source": [
    "data_cleaned['Arthritis']=data_cleaned['Arthritis'].str.strip().str.lower()"
   ]
  },
  {
   "cell_type": "code",
   "execution_count": 281,
   "id": "6fe2e758-6d70-4166-9171-0951e5284016",
   "metadata": {},
   "outputs": [],
   "source": [
    "data_cleaned['Smoking_History']=data_cleaned['Smoking_History'].str.strip().str.lower()"
   ]
  },
  {
   "cell_type": "code",
   "execution_count": 282,
   "id": "b7d55c88-3b87-44fb-84cd-269f125a0bbc",
   "metadata": {},
   "outputs": [
    {
     "name": "stdout",
     "output_type": "stream",
     "text": [
      "  General_Health                  Checkup Exercise Heart_Disease Skin_Cancer  \\\n",
      "0           poor  within the past 2 years       no            no          no   \n",
      "1      very good     within the past year       no           yes          no   \n",
      "2      very good     within the past year      yes            no          no   \n",
      "3           poor     within the past year      yes           yes          no   \n",
      "4           good     within the past year       no            no          no   \n",
      "\n",
      "  Other_Cancer Depression Diabetes Arthritis     Sex Age_Category  \\\n",
      "0           no         no       no       yes  female        70-74   \n",
      "1           no         no      yes        no  female        70-74   \n",
      "2           no         no      yes        no  female        60-64   \n",
      "3           no         no      yes        no    male        75-79   \n",
      "4           no         no       no        no    male          80+   \n",
      "\n",
      "   Height_(cm)  Weight_(kg)    BMI Smoking_History  Alcohol_Consumption  \\\n",
      "0          150        32.66  14.54             yes                    0   \n",
      "1          165        77.11  28.29              no                    0   \n",
      "2          163        88.45  33.47              no                    4   \n",
      "3          180        93.44  28.73              no                    0   \n",
      "4          191        88.45  24.37             yes                    0   \n",
      "\n",
      "   Fruit_Consumption  Green_Vegetables_Consumption  FriedPotato_Consumption  \n",
      "0                 30                            16                       12  \n",
      "1                 30                             0                        4  \n",
      "2                 12                             3                       16  \n",
      "3                 30                            30                        8  \n",
      "4                  8                             4                        0  \n"
     ]
    }
   ],
   "source": [
    "print(data_cleaned.head())"
   ]
  },
  {
   "cell_type": "code",
   "execution_count": 283,
   "id": "d82a468b-3856-44b3-8997-7aa2ea0812c4",
   "metadata": {},
   "outputs": [],
   "source": [
    "#encoded_data=pd.get_dummies(data_cleaned,columns=[\"General_Health\", \"Checkup\", \"Exercise\", \"Heart_Disease\", \"Skin_Cancer\",\n",
    "#    \"Other_Cancer\", \"Depression\", \"Diabetes\", \"Arthritis\", \"Sex\",\n",
    " #   \"Age_Category\", \"Smoking_History\"\n",
    "#], drop_first=True) "
   ]
  },
  {
   "cell_type": "code",
   "execution_count": 284,
   "id": "6e39dcd3-c165-44d5-b75f-76e69a9797d3",
   "metadata": {},
   "outputs": [],
   "source": [
    "from sklearn.preprocessing import LabelEncoder"
   ]
  },
  {
   "cell_type": "code",
   "execution_count": 285,
   "id": "292f0822-b0a3-473a-95ab-e03b1b5f5fc1",
   "metadata": {},
   "outputs": [],
   "source": [
    "label_encoder=LabelEncoder()"
   ]
  },
  {
   "cell_type": "code",
   "execution_count": 286,
   "id": "6bfc4faa-8ed5-42b7-b336-63f9abcd77d5",
   "metadata": {},
   "outputs": [],
   "source": [
    "categorical_columns = [\n",
    "    \"General_Health\", \"Checkup\", \"Exercise\", \"Heart_Disease\", \n",
    "    \"Skin_Cancer\", \"Other_Cancer\", \"Depression\", \"Diabetes\",\n",
    "    \"Arthritis\", \"Sex\", \"Age_Category\", \"Smoking_History\"\n",
    "]"
   ]
  },
  {
   "cell_type": "code",
   "execution_count": 287,
   "id": "cd18f91d-f361-4e82-a251-e27c6b188426",
   "metadata": {},
   "outputs": [],
   "source": [
    "for col in categorical_columns:\n",
    "    if col in data_cleaned.columns:\n",
    "        data_cleaned[col]=label_encoder.fit_transform(data_cleaned[col])"
   ]
  },
  {
   "cell_type": "code",
   "execution_count": 288,
   "id": "215826c0-5e4f-4107-9bc7-0d78a5d50a1b",
   "metadata": {},
   "outputs": [
    {
     "name": "stdout",
     "output_type": "stream",
     "text": [
      "<class 'pandas.core.frame.DataFrame'>\n",
      "Int64Index: 308774 entries, 0 to 308853\n",
      "Data columns (total 19 columns):\n",
      " #   Column                        Non-Null Count   Dtype  \n",
      "---  ------                        --------------   -----  \n",
      " 0   General_Health                308774 non-null  int64  \n",
      " 1   Checkup                       308774 non-null  int64  \n",
      " 2   Exercise                      308774 non-null  int64  \n",
      " 3   Heart_Disease                 308774 non-null  int64  \n",
      " 4   Skin_Cancer                   308774 non-null  int64  \n",
      " 5   Other_Cancer                  308774 non-null  int64  \n",
      " 6   Depression                    308774 non-null  int64  \n",
      " 7   Diabetes                      308774 non-null  int64  \n",
      " 8   Arthritis                     308774 non-null  int64  \n",
      " 9   Sex                           308774 non-null  int64  \n",
      " 10  Age_Category                  308774 non-null  int64  \n",
      " 11  Height_(cm)                   308774 non-null  int64  \n",
      " 12  Weight_(kg)                   308774 non-null  float64\n",
      " 13  BMI                           308774 non-null  float64\n",
      " 14  Smoking_History               308774 non-null  int64  \n",
      " 15  Alcohol_Consumption           308774 non-null  int64  \n",
      " 16  Fruit_Consumption             308774 non-null  int64  \n",
      " 17  Green_Vegetables_Consumption  308774 non-null  int64  \n",
      " 18  FriedPotato_Consumption       308774 non-null  int64  \n",
      "dtypes: float64(2), int64(17)\n",
      "memory usage: 47.1 MB\n",
      "None\n"
     ]
    }
   ],
   "source": [
    "print(data_cleaned.info())"
   ]
  },
  {
   "cell_type": "code",
   "execution_count": 289,
   "id": "d5d2fb90-649b-4b86-891b-d8d8092dc359",
   "metadata": {},
   "outputs": [
    {
     "name": "stdout",
     "output_type": "stream",
     "text": [
      "   General_Health  Checkup  Exercise  Heart_Disease  Skin_Cancer  \\\n",
      "0               3        2         0              0            0   \n",
      "1               4        4         0              1            0   \n",
      "2               4        4         1              0            0   \n",
      "3               3        4         1              1            0   \n",
      "4               2        4         0              0            0   \n",
      "\n",
      "   Other_Cancer  Depression  Diabetes  Arthritis  Sex  Age_Category  \\\n",
      "0             0           0         0          1    0            10   \n",
      "1             0           0         2          0    0            10   \n",
      "2             0           0         2          0    0             8   \n",
      "3             0           0         2          0    1            11   \n",
      "4             0           0         0          0    1            12   \n",
      "\n",
      "   Height_(cm)  Weight_(kg)    BMI  Smoking_History  Alcohol_Consumption  \\\n",
      "0          150        32.66  14.54                1                    0   \n",
      "1          165        77.11  28.29                0                    0   \n",
      "2          163        88.45  33.47                0                    4   \n",
      "3          180        93.44  28.73                0                    0   \n",
      "4          191        88.45  24.37                1                    0   \n",
      "\n",
      "   Fruit_Consumption  Green_Vegetables_Consumption  FriedPotato_Consumption  \n",
      "0                 30                            16                       12  \n",
      "1                 30                             0                        4  \n",
      "2                 12                             3                       16  \n",
      "3                 30                            30                        8  \n",
      "4                  8                             4                        0  \n"
     ]
    }
   ],
   "source": [
    "print(data_cleaned.head())"
   ]
  },
  {
   "cell_type": "code",
   "execution_count": 290,
   "id": "0b4807ff-35a1-4add-94b3-84f74f71601c",
   "metadata": {},
   "outputs": [],
   "source": [
    "numerical_columns = [\n",
    "    \"Height_(cm)\", \"Weight_(kg)\", \"BMI\", \"Alcohol_Consumption\", \n",
    "    \"Fruit_Consumption\", \"Green_Vegetables_Consumption\", \"FriedPotato_Consumption\"\n",
    "]"
   ]
  },
  {
   "cell_type": "code",
   "execution_count": 291,
   "id": "7f6b495d-84a3-44fa-8250-1be9389bf9a9",
   "metadata": {},
   "outputs": [],
   "source": [
    "from sklearn.preprocessing import MinMaxScaler\n"
   ]
  },
  {
   "cell_type": "code",
   "execution_count": 292,
   "id": "09ac85f7-9274-4229-96d7-e98fde790a41",
   "metadata": {},
   "outputs": [],
   "source": [
    "scaler=MinMaxScaler()"
   ]
  },
  {
   "cell_type": "code",
   "execution_count": 293,
   "id": "1d059de2-0f4c-4d2b-99ae-682053346bde",
   "metadata": {},
   "outputs": [],
   "source": [
    "data_cleaned[numerical_columns] = scaler.fit_transform(data_cleaned[numerical_columns])"
   ]
  },
  {
   "cell_type": "code",
   "execution_count": 294,
   "id": "27e7d2e6-8e07-44c8-bc8e-d819908f45f4",
   "metadata": {},
   "outputs": [],
   "source": [
    "data_cleaned[numerical_columns]= data_cleaned[numerical_columns].round(2)"
   ]
  },
  {
   "cell_type": "code",
   "execution_count": 295,
   "id": "cae71ed0-e640-4730-8e02-e1519613a9e4",
   "metadata": {},
   "outputs": [
    {
     "name": "stdout",
     "output_type": "stream",
     "text": [
      "   Height_(cm)  Weight_(kg)   BMI  Alcohol_Consumption  Fruit_Consumption  \\\n",
      "0         0.39         0.03  0.03                 0.00               0.25   \n",
      "1         0.49         0.19  0.19                 0.00               0.25   \n",
      "2         0.48         0.24  0.25                 0.13               0.10   \n",
      "3         0.59         0.26  0.19                 0.00               0.25   \n",
      "4         0.67         0.24  0.14                 0.00               0.07   \n",
      "\n",
      "   Green_Vegetables_Consumption  FriedPotato_Consumption  \n",
      "0                          0.12                     0.09  \n",
      "1                          0.00                     0.03  \n",
      "2                          0.02                     0.12  \n",
      "3                          0.23                     0.06  \n",
      "4                          0.03                     0.00  \n"
     ]
    }
   ],
   "source": [
    "print(data_cleaned[numerical_columns].head())\n"
   ]
  },
  {
   "cell_type": "code",
   "execution_count": 296,
   "id": "8cfab968-3355-4dd4-b233-d1c81640ea1d",
   "metadata": {},
   "outputs": [],
   "source": [
    "data_cleaned.to_csv(\"CVD_preprocessed.csv\", index=False)"
   ]
  },
  {
   "cell_type": "code",
   "execution_count": null,
   "id": "b0dde601-bae4-4194-b9ce-a51e2fd380ee",
   "metadata": {},
   "outputs": [],
   "source": [
    "\n"
   ]
  },
  {
   "cell_type": "code",
   "execution_count": null,
   "id": "a5ee7290-c544-410b-b033-01b2028d44bf",
   "metadata": {},
   "outputs": [],
   "source": []
  },
  {
   "cell_type": "code",
   "execution_count": null,
   "id": "b828ad4f-5bed-4f63-ac00-73b734f108f8",
   "metadata": {},
   "outputs": [],
   "source": []
  }
 ],
 "metadata": {
  "kernelspec": {
   "display_name": "Python 3 (ipykernel)",
   "language": "python",
   "name": "python3"
  },
  "language_info": {
   "codemirror_mode": {
    "name": "ipython",
    "version": 3
   },
   "file_extension": ".py",
   "mimetype": "text/x-python",
   "name": "python",
   "nbconvert_exporter": "python",
   "pygments_lexer": "ipython3",
   "version": "3.10.9"
  }
 },
 "nbformat": 4,
 "nbformat_minor": 5
}
